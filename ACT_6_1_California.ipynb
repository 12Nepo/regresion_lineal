{
  "nbformat": 4,
  "nbformat_minor": 0,
  "metadata": {
    "colab": {
      "provenance": [],
      "authorship_tag": "ABX9TyPxp5M2j5Kxc5PgL57QmD9D",
      "include_colab_link": true
    },
    "kernelspec": {
      "name": "python3",
      "display_name": "Python 3"
    },
    "language_info": {
      "name": "python"
    }
  },
  "cells": [
    {
      "cell_type": "markdown",
      "metadata": {
        "id": "view-in-github",
        "colab_type": "text"
      },
      "source": [
        "<a href=\"https://colab.research.google.com/github/12Nepo/regresion_lineal/blob/main/ACT_6_1_California.ipynb\" target=\"_parent\"><img src=\"https://colab.research.google.com/assets/colab-badge.svg\" alt=\"Open In Colab\"/></a>"
      ]
    },
    {
      "cell_type": "code",
      "execution_count": null,
      "metadata": {
        "id": "iUr1cmH2vxOr"
      },
      "outputs": [],
      "source": [
        "import pandas as pd\n",
        "import numpy as np\n",
        "import matplotlib.pyplot as plt\n",
        "import seaborn as sns"
      ]
    },
    {
      "cell_type": "code",
      "source": [
        "df= pd.read_csv(\"CaliL.csv\")\n",
        "df"
      ],
      "metadata": {
        "colab": {
          "base_uri": "https://localhost:8080/",
          "height": 1000
        },
        "id": "BqrFb8wnwUyp",
        "outputId": "0884fdd6-0ff2-4786-fc8d-fec782214736"
      },
      "execution_count": null,
      "outputs": [
        {
          "output_type": "execute_result",
          "data": {
            "text/plain": [
              "      Unnamed: 0          id     scrape_id     host_id  host_listings_count  \\\n",
              "0              0       958.0  2.020000e+13      1169.0                  1.0   \n",
              "1              1      5858.0  2.020000e+13      8904.0                  2.0   \n",
              "2              2      8142.0  2.020000e+13     21994.0                 13.0   \n",
              "3              3      8339.0  2.020000e+13     24215.0                  2.0   \n",
              "4              4      8739.0  2.020000e+13      7149.0                  2.0   \n",
              "...          ...         ...           ...         ...                  ...   \n",
              "6931        6931  27790615.3  2.020000e+13  87507815.4                  9.0   \n",
              "6932        6932  27790615.3  2.020000e+13  87507815.4                  1.0   \n",
              "6933        6933  27790615.3  2.020000e+13  87507815.4                  1.0   \n",
              "6934        6934  27790615.3  2.020000e+13  87507815.4                  3.0   \n",
              "6935        6935  27790615.3  2.020000e+13   4836128.0                  2.0   \n",
              "\n",
              "      host_total_listings_count   latitude   longitude  accommodates  \\\n",
              "0                           1.0  37.770280 -122.433170             3   \n",
              "1                           2.0  37.744740 -122.420890             4   \n",
              "2                          14.0  37.765550 -122.452130             1   \n",
              "3                           6.0  37.775640 -122.436420             4   \n",
              "4                           2.0  37.760300 -122.421970             3   \n",
              "...                         ...        ...         ...           ...   \n",
              "6931                        9.0  37.791994 -122.410000             2   \n",
              "6932                        1.0  37.763060 -122.432023             2   \n",
              "6933                        1.0  37.777633 -122.416478             1   \n",
              "6934                        4.0  37.738325 -122.396603             2   \n",
              "6935                        4.0  37.786442 -122.457006             2   \n",
              "\n",
              "      bedrooms  ...        room_type  bathrooms_text  \\\n",
              "0          1.0  ...  Entire home/apt          1 bath   \n",
              "1          2.0  ...  Entire home/apt          1 bath   \n",
              "2          1.0  ...     Private room  4 shared baths   \n",
              "3          2.0  ...  Entire home/apt       1.5 baths   \n",
              "4          1.0  ...     Private room  1 private bath   \n",
              "...        ...  ...              ...             ...   \n",
              "6931       1.0  ...  Entire home/apt          1 bath   \n",
              "6932       1.0  ...  Entire home/apt          1 bath   \n",
              "6933       1.0  ...     Private room   1 shared bath   \n",
              "6934       1.0  ...     Private room   1 shared bath   \n",
              "6935       1.0  ...  Entire home/apt          1 bath   \n",
              "\n",
              "                                              amenities  price  \\\n",
              "0     [\"Oven\", \"Self check-in\", \"Cooking basics\", \"L...    202   \n",
              "1     [\"Essentials\", \"Carbon monoxide alarm\", \"Hange...    235   \n",
              "2     [\"Security cameras on property\", \"Host greets ...     56   \n",
              "3     [\"Oven\", \"Cooking basics\", \"TV\", \"Smoke alarm\"...    575   \n",
              "4     [\"Paid parking garage off premises\", \"Luggage ...    110   \n",
              "...                                                 ...    ...   \n",
              "6931  [\"Security cameras on property\", \"Self check-i...    164   \n",
              "6932  [\"Cooking basics\", \"Luggage dropoff allowed\", ...    228   \n",
              "6933  [\"TV\", \"Free dryer \\u2013 In unit\", \"Mountain ...    104   \n",
              "6934  [\"Essentials\", \"Carbon monoxide alarm\", \"Centr...     65   \n",
              "6935  [\"Carbon monoxide alarm\", \"Security cameras on...    375   \n",
              "\n",
              "      has_availability  calendar_last_scraped     first_review  \\\n",
              "0                    t             06/03/2023       23/07/2009   \n",
              "1                    t             06/03/2023       03/05/2009   \n",
              "2                    t             06/03/2023       08/09/2014   \n",
              "3                    t             06/03/2023       25/09/2009   \n",
              "4                    t             06/03/2023       01/08/2009   \n",
              "...                ...                    ...              ...   \n",
              "6931                 t             06/03/2023  sin informacion   \n",
              "6932                 t             06/03/2023       03/03/2023   \n",
              "6933                 t             06/03/2023  sin informacion   \n",
              "6934                 t             06/03/2023  sin informacion   \n",
              "6935                 t             06/03/2023  sin informacion   \n",
              "\n",
              "          last_review                    license  instant_bookable  \n",
              "0          19/02/2023  City Registration Pending                 f  \n",
              "1          06/08/2017                    license                 f  \n",
              "2          27/10/2022                    license                 f  \n",
              "3          28/06/2019                STR-0000264                 f  \n",
              "4          25/02/2023                STR-0000028                 f  \n",
              "...               ...                        ...               ...  \n",
              "6931  sin informacion                     147904                 t  \n",
              "6932       03/03/2023             2023-001477STR                 f  \n",
              "6933  sin informacion                    license                 f  \n",
              "6934  sin informacion             2022-012562STR                 f  \n",
              "6935  sin informacion                    license                 t  \n",
              "\n",
              "[6936 rows x 73 columns]"
            ],
            "text/html": [
              "\n",
              "  <div id=\"df-82575bb0-1755-4885-8400-b5fb7907805c\">\n",
              "    <div class=\"colab-df-container\">\n",
              "      <div>\n",
              "<style scoped>\n",
              "    .dataframe tbody tr th:only-of-type {\n",
              "        vertical-align: middle;\n",
              "    }\n",
              "\n",
              "    .dataframe tbody tr th {\n",
              "        vertical-align: top;\n",
              "    }\n",
              "\n",
              "    .dataframe thead th {\n",
              "        text-align: right;\n",
              "    }\n",
              "</style>\n",
              "<table border=\"1\" class=\"dataframe\">\n",
              "  <thead>\n",
              "    <tr style=\"text-align: right;\">\n",
              "      <th></th>\n",
              "      <th>Unnamed: 0</th>\n",
              "      <th>id</th>\n",
              "      <th>scrape_id</th>\n",
              "      <th>host_id</th>\n",
              "      <th>host_listings_count</th>\n",
              "      <th>host_total_listings_count</th>\n",
              "      <th>latitude</th>\n",
              "      <th>longitude</th>\n",
              "      <th>accommodates</th>\n",
              "      <th>bedrooms</th>\n",
              "      <th>...</th>\n",
              "      <th>room_type</th>\n",
              "      <th>bathrooms_text</th>\n",
              "      <th>amenities</th>\n",
              "      <th>price</th>\n",
              "      <th>has_availability</th>\n",
              "      <th>calendar_last_scraped</th>\n",
              "      <th>first_review</th>\n",
              "      <th>last_review</th>\n",
              "      <th>license</th>\n",
              "      <th>instant_bookable</th>\n",
              "    </tr>\n",
              "  </thead>\n",
              "  <tbody>\n",
              "    <tr>\n",
              "      <th>0</th>\n",
              "      <td>0</td>\n",
              "      <td>958.0</td>\n",
              "      <td>2.020000e+13</td>\n",
              "      <td>1169.0</td>\n",
              "      <td>1.0</td>\n",
              "      <td>1.0</td>\n",
              "      <td>37.770280</td>\n",
              "      <td>-122.433170</td>\n",
              "      <td>3</td>\n",
              "      <td>1.0</td>\n",
              "      <td>...</td>\n",
              "      <td>Entire home/apt</td>\n",
              "      <td>1 bath</td>\n",
              "      <td>[\"Oven\", \"Self check-in\", \"Cooking basics\", \"L...</td>\n",
              "      <td>202</td>\n",
              "      <td>t</td>\n",
              "      <td>06/03/2023</td>\n",
              "      <td>23/07/2009</td>\n",
              "      <td>19/02/2023</td>\n",
              "      <td>City Registration Pending</td>\n",
              "      <td>f</td>\n",
              "    </tr>\n",
              "    <tr>\n",
              "      <th>1</th>\n",
              "      <td>1</td>\n",
              "      <td>5858.0</td>\n",
              "      <td>2.020000e+13</td>\n",
              "      <td>8904.0</td>\n",
              "      <td>2.0</td>\n",
              "      <td>2.0</td>\n",
              "      <td>37.744740</td>\n",
              "      <td>-122.420890</td>\n",
              "      <td>4</td>\n",
              "      <td>2.0</td>\n",
              "      <td>...</td>\n",
              "      <td>Entire home/apt</td>\n",
              "      <td>1 bath</td>\n",
              "      <td>[\"Essentials\", \"Carbon monoxide alarm\", \"Hange...</td>\n",
              "      <td>235</td>\n",
              "      <td>t</td>\n",
              "      <td>06/03/2023</td>\n",
              "      <td>03/05/2009</td>\n",
              "      <td>06/08/2017</td>\n",
              "      <td>license</td>\n",
              "      <td>f</td>\n",
              "    </tr>\n",
              "    <tr>\n",
              "      <th>2</th>\n",
              "      <td>2</td>\n",
              "      <td>8142.0</td>\n",
              "      <td>2.020000e+13</td>\n",
              "      <td>21994.0</td>\n",
              "      <td>13.0</td>\n",
              "      <td>14.0</td>\n",
              "      <td>37.765550</td>\n",
              "      <td>-122.452130</td>\n",
              "      <td>1</td>\n",
              "      <td>1.0</td>\n",
              "      <td>...</td>\n",
              "      <td>Private room</td>\n",
              "      <td>4 shared baths</td>\n",
              "      <td>[\"Security cameras on property\", \"Host greets ...</td>\n",
              "      <td>56</td>\n",
              "      <td>t</td>\n",
              "      <td>06/03/2023</td>\n",
              "      <td>08/09/2014</td>\n",
              "      <td>27/10/2022</td>\n",
              "      <td>license</td>\n",
              "      <td>f</td>\n",
              "    </tr>\n",
              "    <tr>\n",
              "      <th>3</th>\n",
              "      <td>3</td>\n",
              "      <td>8339.0</td>\n",
              "      <td>2.020000e+13</td>\n",
              "      <td>24215.0</td>\n",
              "      <td>2.0</td>\n",
              "      <td>6.0</td>\n",
              "      <td>37.775640</td>\n",
              "      <td>-122.436420</td>\n",
              "      <td>4</td>\n",
              "      <td>2.0</td>\n",
              "      <td>...</td>\n",
              "      <td>Entire home/apt</td>\n",
              "      <td>1.5 baths</td>\n",
              "      <td>[\"Oven\", \"Cooking basics\", \"TV\", \"Smoke alarm\"...</td>\n",
              "      <td>575</td>\n",
              "      <td>t</td>\n",
              "      <td>06/03/2023</td>\n",
              "      <td>25/09/2009</td>\n",
              "      <td>28/06/2019</td>\n",
              "      <td>STR-0000264</td>\n",
              "      <td>f</td>\n",
              "    </tr>\n",
              "    <tr>\n",
              "      <th>4</th>\n",
              "      <td>4</td>\n",
              "      <td>8739.0</td>\n",
              "      <td>2.020000e+13</td>\n",
              "      <td>7149.0</td>\n",
              "      <td>2.0</td>\n",
              "      <td>2.0</td>\n",
              "      <td>37.760300</td>\n",
              "      <td>-122.421970</td>\n",
              "      <td>3</td>\n",
              "      <td>1.0</td>\n",
              "      <td>...</td>\n",
              "      <td>Private room</td>\n",
              "      <td>1 private bath</td>\n",
              "      <td>[\"Paid parking garage off premises\", \"Luggage ...</td>\n",
              "      <td>110</td>\n",
              "      <td>t</td>\n",
              "      <td>06/03/2023</td>\n",
              "      <td>01/08/2009</td>\n",
              "      <td>25/02/2023</td>\n",
              "      <td>STR-0000028</td>\n",
              "      <td>f</td>\n",
              "    </tr>\n",
              "    <tr>\n",
              "      <th>...</th>\n",
              "      <td>...</td>\n",
              "      <td>...</td>\n",
              "      <td>...</td>\n",
              "      <td>...</td>\n",
              "      <td>...</td>\n",
              "      <td>...</td>\n",
              "      <td>...</td>\n",
              "      <td>...</td>\n",
              "      <td>...</td>\n",
              "      <td>...</td>\n",
              "      <td>...</td>\n",
              "      <td>...</td>\n",
              "      <td>...</td>\n",
              "      <td>...</td>\n",
              "      <td>...</td>\n",
              "      <td>...</td>\n",
              "      <td>...</td>\n",
              "      <td>...</td>\n",
              "      <td>...</td>\n",
              "      <td>...</td>\n",
              "      <td>...</td>\n",
              "    </tr>\n",
              "    <tr>\n",
              "      <th>6931</th>\n",
              "      <td>6931</td>\n",
              "      <td>27790615.3</td>\n",
              "      <td>2.020000e+13</td>\n",
              "      <td>87507815.4</td>\n",
              "      <td>9.0</td>\n",
              "      <td>9.0</td>\n",
              "      <td>37.791994</td>\n",
              "      <td>-122.410000</td>\n",
              "      <td>2</td>\n",
              "      <td>1.0</td>\n",
              "      <td>...</td>\n",
              "      <td>Entire home/apt</td>\n",
              "      <td>1 bath</td>\n",
              "      <td>[\"Security cameras on property\", \"Self check-i...</td>\n",
              "      <td>164</td>\n",
              "      <td>t</td>\n",
              "      <td>06/03/2023</td>\n",
              "      <td>sin informacion</td>\n",
              "      <td>sin informacion</td>\n",
              "      <td>147904</td>\n",
              "      <td>t</td>\n",
              "    </tr>\n",
              "    <tr>\n",
              "      <th>6932</th>\n",
              "      <td>6932</td>\n",
              "      <td>27790615.3</td>\n",
              "      <td>2.020000e+13</td>\n",
              "      <td>87507815.4</td>\n",
              "      <td>1.0</td>\n",
              "      <td>1.0</td>\n",
              "      <td>37.763060</td>\n",
              "      <td>-122.432023</td>\n",
              "      <td>2</td>\n",
              "      <td>1.0</td>\n",
              "      <td>...</td>\n",
              "      <td>Entire home/apt</td>\n",
              "      <td>1 bath</td>\n",
              "      <td>[\"Cooking basics\", \"Luggage dropoff allowed\", ...</td>\n",
              "      <td>228</td>\n",
              "      <td>t</td>\n",
              "      <td>06/03/2023</td>\n",
              "      <td>03/03/2023</td>\n",
              "      <td>03/03/2023</td>\n",
              "      <td>2023-001477STR</td>\n",
              "      <td>f</td>\n",
              "    </tr>\n",
              "    <tr>\n",
              "      <th>6933</th>\n",
              "      <td>6933</td>\n",
              "      <td>27790615.3</td>\n",
              "      <td>2.020000e+13</td>\n",
              "      <td>87507815.4</td>\n",
              "      <td>1.0</td>\n",
              "      <td>1.0</td>\n",
              "      <td>37.777633</td>\n",
              "      <td>-122.416478</td>\n",
              "      <td>1</td>\n",
              "      <td>1.0</td>\n",
              "      <td>...</td>\n",
              "      <td>Private room</td>\n",
              "      <td>1 shared bath</td>\n",
              "      <td>[\"TV\", \"Free dryer \\u2013 In unit\", \"Mountain ...</td>\n",
              "      <td>104</td>\n",
              "      <td>t</td>\n",
              "      <td>06/03/2023</td>\n",
              "      <td>sin informacion</td>\n",
              "      <td>sin informacion</td>\n",
              "      <td>license</td>\n",
              "      <td>f</td>\n",
              "    </tr>\n",
              "    <tr>\n",
              "      <th>6934</th>\n",
              "      <td>6934</td>\n",
              "      <td>27790615.3</td>\n",
              "      <td>2.020000e+13</td>\n",
              "      <td>87507815.4</td>\n",
              "      <td>3.0</td>\n",
              "      <td>4.0</td>\n",
              "      <td>37.738325</td>\n",
              "      <td>-122.396603</td>\n",
              "      <td>2</td>\n",
              "      <td>1.0</td>\n",
              "      <td>...</td>\n",
              "      <td>Private room</td>\n",
              "      <td>1 shared bath</td>\n",
              "      <td>[\"Essentials\", \"Carbon monoxide alarm\", \"Centr...</td>\n",
              "      <td>65</td>\n",
              "      <td>t</td>\n",
              "      <td>06/03/2023</td>\n",
              "      <td>sin informacion</td>\n",
              "      <td>sin informacion</td>\n",
              "      <td>2022-012562STR</td>\n",
              "      <td>f</td>\n",
              "    </tr>\n",
              "    <tr>\n",
              "      <th>6935</th>\n",
              "      <td>6935</td>\n",
              "      <td>27790615.3</td>\n",
              "      <td>2.020000e+13</td>\n",
              "      <td>4836128.0</td>\n",
              "      <td>2.0</td>\n",
              "      <td>4.0</td>\n",
              "      <td>37.786442</td>\n",
              "      <td>-122.457006</td>\n",
              "      <td>2</td>\n",
              "      <td>1.0</td>\n",
              "      <td>...</td>\n",
              "      <td>Entire home/apt</td>\n",
              "      <td>1 bath</td>\n",
              "      <td>[\"Carbon monoxide alarm\", \"Security cameras on...</td>\n",
              "      <td>375</td>\n",
              "      <td>t</td>\n",
              "      <td>06/03/2023</td>\n",
              "      <td>sin informacion</td>\n",
              "      <td>sin informacion</td>\n",
              "      <td>license</td>\n",
              "      <td>t</td>\n",
              "    </tr>\n",
              "  </tbody>\n",
              "</table>\n",
              "<p>6936 rows × 73 columns</p>\n",
              "</div>\n",
              "      <button class=\"colab-df-convert\" onclick=\"convertToInteractive('df-82575bb0-1755-4885-8400-b5fb7907805c')\"\n",
              "              title=\"Convert this dataframe to an interactive table.\"\n",
              "              style=\"display:none;\">\n",
              "        \n",
              "  <svg xmlns=\"http://www.w3.org/2000/svg\" height=\"24px\"viewBox=\"0 0 24 24\"\n",
              "       width=\"24px\">\n",
              "    <path d=\"M0 0h24v24H0V0z\" fill=\"none\"/>\n",
              "    <path d=\"M18.56 5.44l.94 2.06.94-2.06 2.06-.94-2.06-.94-.94-2.06-.94 2.06-2.06.94zm-11 1L8.5 8.5l.94-2.06 2.06-.94-2.06-.94L8.5 2.5l-.94 2.06-2.06.94zm10 10l.94 2.06.94-2.06 2.06-.94-2.06-.94-.94-2.06-.94 2.06-2.06.94z\"/><path d=\"M17.41 7.96l-1.37-1.37c-.4-.4-.92-.59-1.43-.59-.52 0-1.04.2-1.43.59L10.3 9.45l-7.72 7.72c-.78.78-.78 2.05 0 2.83L4 21.41c.39.39.9.59 1.41.59.51 0 1.02-.2 1.41-.59l7.78-7.78 2.81-2.81c.8-.78.8-2.07 0-2.86zM5.41 20L4 18.59l7.72-7.72 1.47 1.35L5.41 20z\"/>\n",
              "  </svg>\n",
              "      </button>\n",
              "      \n",
              "  <style>\n",
              "    .colab-df-container {\n",
              "      display:flex;\n",
              "      flex-wrap:wrap;\n",
              "      gap: 12px;\n",
              "    }\n",
              "\n",
              "    .colab-df-convert {\n",
              "      background-color: #E8F0FE;\n",
              "      border: none;\n",
              "      border-radius: 50%;\n",
              "      cursor: pointer;\n",
              "      display: none;\n",
              "      fill: #1967D2;\n",
              "      height: 32px;\n",
              "      padding: 0 0 0 0;\n",
              "      width: 32px;\n",
              "    }\n",
              "\n",
              "    .colab-df-convert:hover {\n",
              "      background-color: #E2EBFA;\n",
              "      box-shadow: 0px 1px 2px rgba(60, 64, 67, 0.3), 0px 1px 3px 1px rgba(60, 64, 67, 0.15);\n",
              "      fill: #174EA6;\n",
              "    }\n",
              "\n",
              "    [theme=dark] .colab-df-convert {\n",
              "      background-color: #3B4455;\n",
              "      fill: #D2E3FC;\n",
              "    }\n",
              "\n",
              "    [theme=dark] .colab-df-convert:hover {\n",
              "      background-color: #434B5C;\n",
              "      box-shadow: 0px 1px 3px 1px rgba(0, 0, 0, 0.15);\n",
              "      filter: drop-shadow(0px 1px 2px rgba(0, 0, 0, 0.3));\n",
              "      fill: #FFFFFF;\n",
              "    }\n",
              "  </style>\n",
              "\n",
              "      <script>\n",
              "        const buttonEl =\n",
              "          document.querySelector('#df-82575bb0-1755-4885-8400-b5fb7907805c button.colab-df-convert');\n",
              "        buttonEl.style.display =\n",
              "          google.colab.kernel.accessAllowed ? 'block' : 'none';\n",
              "\n",
              "        async function convertToInteractive(key) {\n",
              "          const element = document.querySelector('#df-82575bb0-1755-4885-8400-b5fb7907805c');\n",
              "          const dataTable =\n",
              "            await google.colab.kernel.invokeFunction('convertToInteractive',\n",
              "                                                     [key], {});\n",
              "          if (!dataTable) return;\n",
              "\n",
              "          const docLinkHtml = 'Like what you see? Visit the ' +\n",
              "            '<a target=\"_blank\" href=https://colab.research.google.com/notebooks/data_table.ipynb>data table notebook</a>'\n",
              "            + ' to learn more about interactive tables.';\n",
              "          element.innerHTML = '';\n",
              "          dataTable['output_type'] = 'display_data';\n",
              "          await google.colab.output.renderOutput(dataTable, element);\n",
              "          const docLink = document.createElement('div');\n",
              "          docLink.innerHTML = docLinkHtml;\n",
              "          element.appendChild(docLink);\n",
              "        }\n",
              "      </script>\n",
              "    </div>\n",
              "  </div>\n",
              "  "
            ]
          },
          "metadata": {},
          "execution_count": 63
        }
      ]
    },
    {
      "cell_type": "code",
      "source": [
        "DFF = df[df[\"room_type\"].isin([\"Private room\", \"Hotel room\"])]"
      ],
      "metadata": {
        "id": "yIeSJY1Mzp2f"
      },
      "execution_count": null,
      "outputs": []
    },
    {
      "cell_type": "code",
      "source": [
        "#Imprimimos el scatter plot entre la variable dependiente (total) e independiente (alchool) \n",
        "#para observar el comportamiento en su dispersión \n",
        "from turtle import color\n",
        "sns.scatterplot(x='host_acceptance_rate', y='host_response_rate', color=\"blue\", data=DFF)\n",
        "#sns.scatterplot(X='speeding', y='total', color=\"red\", data=df)"
      ],
      "metadata": {
        "colab": {
          "base_uri": "https://localhost:8080/",
          "height": 467
        },
        "id": "b3wRSXYTwVC7",
        "outputId": "475fe348-3ad8-4392-a01b-c86afe1d3e42"
      },
      "execution_count": null,
      "outputs": [
        {
          "output_type": "execute_result",
          "data": {
            "text/plain": [
              "<Axes: xlabel='host_acceptance_rate', ylabel='host_response_rate'>"
            ]
          },
          "metadata": {},
          "execution_count": 65
        },
        {
          "output_type": "display_data",
          "data": {
            "text/plain": [
              "<Figure size 640x480 with 1 Axes>"
            ],
            "image/png": "[encoded data removed]"
          },
          "metadata": {}
        }
      ]
    },
    {
      "cell_type": "code",
      "source": [
        "#Declaramos las variables dependientes e independientes para la regresión lineal\n",
        "#Vars_Indep= df[['alcohol', 'speeding']]\n",
        "Vars_Indep= DFF[['host_acceptance_rate']]\n",
        "Var_Dep= DFF['host_response_rate']"
      ],
      "metadata": {
        "id": "uMO7OJa93l5W"
      },
      "execution_count": null,
      "outputs": []
    },
    {
      "cell_type": "code",
      "source": [
        "#Se define model como la función de regresión lineal\n",
        "from sklearn.linear_model import LinearRegression\n",
        "model= LinearRegression()"
      ],
      "metadata": {
        "id": "xeSWVbEY30UK"
      },
      "execution_count": null,
      "outputs": []
    },
    {
      "cell_type": "code",
      "source": [
        "#Verificamos la función relacionada al modelo\n",
        "type(model)"
      ],
      "metadata": {
        "colab": {
          "base_uri": "https://localhost:8080/"
        },
        "id": "cXt-PV8F4ACk",
        "outputId": "8e72500d-bb50-4a11-cc59-1dc2d95a7c03"
      },
      "execution_count": null,
      "outputs": [
        {
          "output_type": "execute_result",
          "data": {
            "text/plain": [
              "sklearn.linear_model._base.LinearRegression"
            ]
          },
          "metadata": {},
          "execution_count": 68
        }
      ]
    },
    {
      "cell_type": "code",
      "source": [
        "#Ajustamos el modelo con las variables antes declaradas\n",
        "model.fit(X=Vars_Indep, y=Var_Dep)"
      ],
      "metadata": {
        "colab": {
          "base_uri": "https://localhost:8080/",
          "height": 74
        },
        "id": "zBLjjQmC4BaZ",
        "outputId": "99c1ec2f-61cf-4996-9310-2fab8d34422f"
      },
      "execution_count": null,
      "outputs": [
        {
          "output_type": "execute_result",
          "data": {
            "text/plain": [
              "LinearRegression()"
            ],
            "text/html": [
              "<style>#sk-container-id-8 {color: black;background-color: white;}#sk-container-id-8 pre{padding: 0;}#sk-container-id-8 div.sk-toggleable {background-color: white;}#sk-container-id-8 label.sk-toggleable__label {cursor: pointer;display: block;width: 100%;margin-bottom: 0;padding: 0.3em;box-sizing: border-box;text-align: center;}#sk-container-id-8 label.sk-toggleable__label-arrow:before {content: \"▸\";float: left;margin-right: 0.25em;color: #696969;}#sk-container-id-8 label.sk-toggleable__label-arrow:hover:before {color: black;}#sk-container-id-8 div.sk-estimator:hover label.sk-toggleable__label-arrow:before {color: black;}#sk-container-id-8 div.sk-toggleable__content {max-height: 0;max-width: 0;overflow: hidden;text-align: left;background-color: #f0f8ff;}#sk-container-id-8 div.sk-toggleable__content pre {margin: 0.2em;color: black;border-radius: 0.25em;background-color: #f0f8ff;}#sk-container-id-8 input.sk-toggleable__control:checked~div.sk-toggleable__content {max-height: 200px;max-width: 100%;overflow: auto;}#sk-container-id-8 input.sk-toggleable__control:checked~label.sk-toggleable__label-arrow:before {content: \"▾\";}#sk-container-id-8 div.sk-estimator input.sk-toggleable__control:checked~label.sk-toggleable__label {background-color: #d4ebff;}#sk-container-id-8 div.sk-label input.sk-toggleable__control:checked~label.sk-toggleable__label {background-color: #d4ebff;}#sk-container-id-8 input.sk-hidden--visually {border: 0;clip: rect(1px 1px 1px 1px);clip: rect(1px, 1px, 1px, 1px);height: 1px;margin: -1px;overflow: hidden;padding: 0;position: absolute;width: 1px;}#sk-container-id-8 div.sk-estimator {font-family: monospace;background-color: #f0f8ff;border: 1px dotted black;border-radius: 0.25em;box-sizing: border-box;margin-bottom: 0.5em;}#sk-container-id-8 div.sk-estimator:hover {background-color: #d4ebff;}#sk-container-id-8 div.sk-parallel-item::after {content: \"\";width: 100%;border-bottom: 1px solid gray;flex-grow: 1;}#sk-container-id-8 div.sk-label:hover label.sk-toggleable__label {background-color: #d4ebff;}#sk-container-id-8 div.sk-serial::before {content: \"\";position: absolute;border-left: 1px solid gray;box-sizing: border-box;top: 0;bottom: 0;left: 50%;z-index: 0;}#sk-container-id-8 div.sk-serial {display: flex;flex-direction: column;align-items: center;background-color: white;padding-right: 0.2em;padding-left: 0.2em;position: relative;}#sk-container-id-8 div.sk-item {position: relative;z-index: 1;}#sk-container-id-8 div.sk-parallel {display: flex;align-items: stretch;justify-content: center;background-color: white;position: relative;}#sk-container-id-8 div.sk-item::before, #sk-container-id-8 div.sk-parallel-item::before {content: \"\";position: absolute;border-left: 1px solid gray;box-sizing: border-box;top: 0;bottom: 0;left: 50%;z-index: -1;}#sk-container-id-8 div.sk-parallel-item {display: flex;flex-direction: column;z-index: 1;position: relative;background-color: white;}#sk-container-id-8 div.sk-parallel-item:first-child::after {align-self: flex-end;width: 50%;}#sk-container-id-8 div.sk-parallel-item:last-child::after {align-self: flex-start;width: 50%;}#sk-container-id-8 div.sk-parallel-item:only-child::after {width: 0;}#sk-container-id-8 div.sk-dashed-wrapped {border: 1px dashed gray;margin: 0 0.4em 0.5em 0.4em;box-sizing: border-box;padding-bottom: 0.4em;background-color: white;}#sk-container-id-8 div.sk-label label {font-family: monospace;font-weight: bold;display: inline-block;line-height: 1.2em;}#sk-container-id-8 div.sk-label-container {text-align: center;}#sk-container-id-8 div.sk-container {/* jupyter's `normalize.less` sets `[hidden] { display: none; }` but bootstrap.min.css set `[hidden] { display: none !important; }` so we also need the `!important` here to be able to override the default hidden behavior on the sphinx rendered scikit-learn.org. See: https://github.com/scikit-learn/scikit-learn/issues/21755 */display: inline-block !important;position: relative;}#sk-container-id-8 div.sk-text-repr-fallback {display: none;}</style><div id=\"sk-container-id-8\" class=\"sk-top-container\"><div class=\"sk-text-repr-fallback\"><pre>LinearRegression()</pre><b>In a Jupyter environment, please rerun this cell to show the HTML representation or trust the notebook. <br />On GitHub, the HTML representation is unable to render, please try loading this page with nbviewer.org.</b></div><div class=\"sk-container\" hidden><div class=\"sk-item\"><div class=\"sk-estimator sk-toggleable\"><input class=\"sk-toggleable__control sk-hidden--visually\" id=\"sk-estimator-id-8\" type=\"checkbox\" checked><label for=\"sk-estimator-id-8\" class=\"sk-toggleable__label sk-toggleable__label-arrow\">LinearRegression</label><div class=\"sk-toggleable__content\"><pre>LinearRegression()</pre></div></div></div></div></div>"
            ]
          },
          "metadata": {},
          "execution_count": 69
        }
      ]
    },
    {
      "cell_type": "code",
      "source": [
        "#Verificamos los coeficientes obtenidos para el modelo ajustado\n",
        "model.__dict__"
      ],
      "metadata": {
        "colab": {
          "base_uri": "https://localhost:8080/"
        },
        "id": "kv_HqNMR4FDk",
        "outputId": "b1bb3bef-7dd1-4edb-900d-d4f2da3c34fe"
      },
      "execution_count": null,
      "outputs": [
        {
          "output_type": "execute_result",
          "data": {
            "text/plain": [
              "{'fit_intercept': True,\n",
              " 'copy_X': True,\n",
              " 'n_jobs': None,\n",
              " 'positive': False,\n",
              " 'feature_names_in_': array(['host_acceptance_rate'], dtype=object),\n",
              " 'n_features_in_': 1,\n",
              " 'coef_': array([0.81452495]),\n",
              " 'rank_': 1,\n",
              " 'singular_': array([17.93824581]),\n",
              " 'intercept_': 0.15530490118210238}"
            ]
          },
          "metadata": {},
          "execution_count": 70
        }
      ]
    },
    {
      "cell_type": "markdown",
      "source": [
        "Modelo matematico: y=0.81452495 + 0.15530490118210238"
      ],
      "metadata": {
        "id": "FpV3UrXL4I41"
      }
    },
    {
      "cell_type": "code",
      "source": [
        "#Corroboramos cual es el coeficiente de Determinación de nuestro modelo\n",
        "coef_Deter=model.score(X=Vars_Indep, y=Var_Dep)\n",
        "coef_Deter"
      ],
      "metadata": {
        "colab": {
          "base_uri": "https://localhost:8080/"
        },
        "id": "aj8NyjkI4at3",
        "outputId": "a8201327-1703-4f9d-869e-953b3f076e7f"
      },
      "execution_count": null,
      "outputs": [
        {
          "output_type": "execute_result",
          "data": {
            "text/plain": [
              "0.6022300397698575"
            ]
          },
          "metadata": {},
          "execution_count": 71
        }
      ]
    },
    {
      "cell_type": "code",
      "source": [
        "#Corroboramos cual es el coeficiente de Correlación de nuestro modelo\n",
        "coef_Correl=np.sqrt(coef_Deter)\n",
        "coef_Correl"
      ],
      "metadata": {
        "colab": {
          "base_uri": "https://localhost:8080/"
        },
        "id": "PAPF155PFo3Z",
        "outputId": "73cbd0c1-2b4d-47af-a2ba-1416d8ba5273"
      },
      "execution_count": null,
      "outputs": [
        {
          "output_type": "execute_result",
          "data": {
            "text/plain": [
              "0.7760348186581949"
            ]
          },
          "metadata": {},
          "execution_count": 72
        }
      ]
    },
    {
      "cell_type": "code",
      "source": [
        "#Imprimimos el scatter plot entre la variable dependiente (total) e independiente (alchool) \n",
        "#para observar el comportamiento en su dispersión \n",
        "from turtle import color\n",
        "sns.scatterplot(x='review_scores_location', y='review_scores_cleanliness', color=\"blue\", data=DFF)\n",
        "#sns.scatterplot(X='speeding', y='total', color=\"red\", data=df)"
      ],
      "metadata": {
        "colab": {
          "base_uri": "https://localhost:8080/",
          "height": 467
        },
        "outputId": "c9e53edd-e582-4941-d945-52d9725d394f",
        "id": "LStIKs3a5tcZ"
      },
      "execution_count": null,
      "outputs": [
        {
          "output_type": "execute_result",
          "data": {
            "text/plain": [
              "<Axes: xlabel='review_scores_location', ylabel='review_scores_cleanliness'>"
            ]
          },
          "metadata": {},
          "execution_count": 73
        },
        {
          "output_type": "display_data",
          "data": {
            "text/plain": [
              "<Figure size 640x480 with 1 Axes>"
            ],
            "image/png": "[encoded data removed]"
          },
          "metadata": {}
        }
      ]
    },
    {
      "cell_type": "code",
      "source": [
        "#Declaramos las variables dependientes e independientes para la regresión lineal\n",
        "#Vars_Indep= df[['alcohol', 'speeding']]\n",
        "Vars_Indep= DFF[['review_scores_location']]\n",
        "Var_Dep= DFF['review_scores_cleanliness']"
      ],
      "metadata": {
        "id": "ihbeWFyR6Nii"
      },
      "execution_count": null,
      "outputs": []
    },
    {
      "cell_type": "code",
      "source": [
        "#Se define model como la función de regresión lineal\n",
        "from sklearn.linear_model import LinearRegression\n",
        "model= LinearRegression()"
      ],
      "metadata": {
        "id": "Dd0zsMNx6Nrx"
      },
      "execution_count": null,
      "outputs": []
    },
    {
      "cell_type": "code",
      "source": [
        "#Verificamos la función relacionada al modelo\n",
        "type(model)"
      ],
      "metadata": {
        "colab": {
          "base_uri": "https://localhost:8080/"
        },
        "id": "GA00Ux6-6Ny8",
        "outputId": "78436d15-cf5e-4d40-fb50-16bdb2c31c8f"
      },
      "execution_count": null,
      "outputs": [
        {
          "output_type": "execute_result",
          "data": {
            "text/plain": [
              "sklearn.linear_model._base.LinearRegression"
            ]
          },
          "metadata": {},
          "execution_count": 76
        }
      ]
    },
    {
      "cell_type": "code",
      "source": [
        "#Ajustamos el modelo con las variables antes declaradas\n",
        "model.fit(X=Vars_Indep, y=Var_Dep)"
      ],
      "metadata": {
        "colab": {
          "base_uri": "https://localhost:8080/",
          "height": 74
        },
        "id": "I4PwfJdV6N7Q",
        "outputId": "e22a482e-2285-4539-e3f7-bb9f804891e8"
      },
      "execution_count": null,
      "outputs": [
        {
          "output_type": "execute_result",
          "data": {
            "text/plain": [
              "LinearRegression()"
            ],
            "text/html": [
              "<style>#sk-container-id-9 {color: black;background-color: white;}#sk-container-id-9 pre{padding: 0;}#sk-container-id-9 div.sk-toggleable {background-color: white;}#sk-container-id-9 label.sk-toggleable__label {cursor: pointer;display: block;width: 100%;margin-bottom: 0;padding: 0.3em;box-sizing: border-box;text-align: center;}#sk-container-id-9 label.sk-toggleable__label-arrow:before {content: \"▸\";float: left;margin-right: 0.25em;color: #696969;}#sk-container-id-9 label.sk-toggleable__label-arrow:hover:before {color: black;}#sk-container-id-9 div.sk-estimator:hover label.sk-toggleable__label-arrow:before {color: black;}#sk-container-id-9 div.sk-toggleable__content {max-height: 0;max-width: 0;overflow: hidden;text-align: left;background-color: #f0f8ff;}#sk-container-id-9 div.sk-toggleable__content pre {margin: 0.2em;color: black;border-radius: 0.25em;background-color: #f0f8ff;}#sk-container-id-9 input.sk-toggleable__control:checked~div.sk-toggleable__content {max-height: 200px;max-width: 100%;overflow: auto;}#sk-container-id-9 input.sk-toggleable__control:checked~label.sk-toggleable__label-arrow:before {content: \"▾\";}#sk-container-id-9 div.sk-estimator input.sk-toggleable__control:checked~label.sk-toggleable__label {background-color: #d4ebff;}#sk-container-id-9 div.sk-label input.sk-toggleable__control:checked~label.sk-toggleable__label {background-color: #d4ebff;}#sk-container-id-9 input.sk-hidden--visually {border: 0;clip: rect(1px 1px 1px 1px);clip: rect(1px, 1px, 1px, 1px);height: 1px;margin: -1px;overflow: hidden;padding: 0;position: absolute;width: 1px;}#sk-container-id-9 div.sk-estimator {font-family: monospace;background-color: #f0f8ff;border: 1px dotted black;border-radius: 0.25em;box-sizing: border-box;margin-bottom: 0.5em;}#sk-container-id-9 div.sk-estimator:hover {background-color: #d4ebff;}#sk-container-id-9 div.sk-parallel-item::after {content: \"\";width: 100%;border-bottom: 1px solid gray;flex-grow: 1;}#sk-container-id-9 div.sk-label:hover label.sk-toggleable__label {background-color: #d4ebff;}#sk-container-id-9 div.sk-serial::before {content: \"\";position: absolute;border-left: 1px solid gray;box-sizing: border-box;top: 0;bottom: 0;left: 50%;z-index: 0;}#sk-container-id-9 div.sk-serial {display: flex;flex-direction: column;align-items: center;background-color: white;padding-right: 0.2em;padding-left: 0.2em;position: relative;}#sk-container-id-9 div.sk-item {position: relative;z-index: 1;}#sk-container-id-9 div.sk-parallel {display: flex;align-items: stretch;justify-content: center;background-color: white;position: relative;}#sk-container-id-9 div.sk-item::before, #sk-container-id-9 div.sk-parallel-item::before {content: \"\";position: absolute;border-left: 1px solid gray;box-sizing: border-box;top: 0;bottom: 0;left: 50%;z-index: -1;}#sk-container-id-9 div.sk-parallel-item {display: flex;flex-direction: column;z-index: 1;position: relative;background-color: white;}#sk-container-id-9 div.sk-parallel-item:first-child::after {align-self: flex-end;width: 50%;}#sk-container-id-9 div.sk-parallel-item:last-child::after {align-self: flex-start;width: 50%;}#sk-container-id-9 div.sk-parallel-item:only-child::after {width: 0;}#sk-container-id-9 div.sk-dashed-wrapped {border: 1px dashed gray;margin: 0 0.4em 0.5em 0.4em;box-sizing: border-box;padding-bottom: 0.4em;background-color: white;}#sk-container-id-9 div.sk-label label {font-family: monospace;font-weight: bold;display: inline-block;line-height: 1.2em;}#sk-container-id-9 div.sk-label-container {text-align: center;}#sk-container-id-9 div.sk-container {/* jupyter's `normalize.less` sets `[hidden] { display: none; }` but bootstrap.min.css set `[hidden] { display: none !important; }` so we also need the `!important` here to be able to override the default hidden behavior on the sphinx rendered scikit-learn.org. See: https://github.com/scikit-learn/scikit-learn/issues/21755 */display: inline-block !important;position: relative;}#sk-container-id-9 div.sk-text-repr-fallback {display: none;}</style><div id=\"sk-container-id-9\" class=\"sk-top-container\"><div class=\"sk-text-repr-fallback\"><pre>LinearRegression()</pre><b>In a Jupyter environment, please rerun this cell to show the HTML representation or trust the notebook. <br />On GitHub, the HTML representation is unable to render, please try loading this page with nbviewer.org.</b></div><div class=\"sk-container\" hidden><div class=\"sk-item\"><div class=\"sk-estimator sk-toggleable\"><input class=\"sk-toggleable__control sk-hidden--visually\" id=\"sk-estimator-id-9\" type=\"checkbox\" checked><label for=\"sk-estimator-id-9\" class=\"sk-toggleable__label sk-toggleable__label-arrow\">LinearRegression</label><div class=\"sk-toggleable__content\"><pre>LinearRegression()</pre></div></div></div></div></div>"
            ]
          },
          "metadata": {},
          "execution_count": 77
        }
      ]
    },
    {
      "cell_type": "code",
      "source": [
        "#Verificamos los coeficientes obtenidos para el modelo ajustado\n",
        "model.__dict__"
      ],
      "metadata": {
        "colab": {
          "base_uri": "https://localhost:8080/"
        },
        "id": "aGtH4hup6ODV",
        "outputId": "7c3babe3-1f5e-41dd-c8c6-5ecdaa3e447d"
      },
      "execution_count": null,
      "outputs": [
        {
          "output_type": "execute_result",
          "data": {
            "text/plain": [
              "{'fit_intercept': True,\n",
              " 'copy_X': True,\n",
              " 'n_jobs': None,\n",
              " 'positive': False,\n",
              " 'feature_names_in_': array(['review_scores_location'], dtype=object),\n",
              " 'n_features_in_': 1,\n",
              " 'coef_': array([0.26647726]),\n",
              " 'rank_': 1,\n",
              " 'singular_': array([5.94648584]),\n",
              " 'intercept_': 3.5525474022508527}"
            ]
          },
          "metadata": {},
          "execution_count": 78
        }
      ]
    },
    {
      "cell_type": "markdown",
      "source": [
        "Modelo matematico: y= 0.26647726 + 3.5525474022508527"
      ],
      "metadata": {
        "id": "N9JvWUis7gtT"
      }
    },
    {
      "cell_type": "code",
      "source": [
        "#Corroboramos cual es el coeficiente de Determinación de nuestro modelo\n",
        "coef_Deter=model.score(X=Vars_Indep, y=Var_Dep)\n",
        "coef_Deter"
      ],
      "metadata": {
        "colab": {
          "base_uri": "https://localhost:8080/"
        },
        "id": "tnbbvDFi6OLY",
        "outputId": "db79315d-b6f5-44f5-a70f-43b190b8a63d"
      },
      "execution_count": null,
      "outputs": [
        {
          "output_type": "execute_result",
          "data": {
            "text/plain": [
              "0.056127651964810066"
            ]
          },
          "metadata": {},
          "execution_count": 79
        }
      ]
    },
    {
      "cell_type": "code",
      "source": [
        "#Corroboramos cual es el coeficiente de Correlación de nuestro modelo\n",
        "coef_Correl=np.sqrt(coef_Deter)\n",
        "coef_Correl"
      ],
      "metadata": {
        "colab": {
          "base_uri": "https://localhost:8080/"
        },
        "id": "FBMK_jJhGHMl",
        "outputId": "a461fcd1-3fd3-4851-dcc2-bdfafddb0478"
      },
      "execution_count": null,
      "outputs": [
        {
          "output_type": "execute_result",
          "data": {
            "text/plain": [
              "0.2369127517986528"
            ]
          },
          "metadata": {},
          "execution_count": 80
        }
      ]
    },
    {
      "cell_type": "code",
      "source": [
        "#Imprimimos el scatter plot entre la variable dependiente (total) e independiente (alchool) \n",
        "#para observar el comportamiento en su dispersión \n",
        "from turtle import color\n",
        "\n",
        "\n",
        "sns.scatterplot(x='host_acceptance_rate', y='number_of_reviews', color=\"blue\", data=DFF)\n",
        "#sns.scatterplot(X='speeding', y='total', color=\"red\", data=df)"
      ],
      "metadata": {
        "colab": {
          "base_uri": "https://localhost:8080/",
          "height": 467
        },
        "id": "D0P498iw6OSA",
        "outputId": "b99bcc90-b3b5-417d-e899-ed0f07eae336"
      },
      "execution_count": null,
      "outputs": [
        {
          "output_type": "execute_result",
          "data": {
            "text/plain": [
              "<Axes: xlabel='host_acceptance_rate', ylabel='number_of_reviews'>"
            ]
          },
          "metadata": {},
          "execution_count": 81
        },
        {
          "output_type": "display_data",
          "data": {
            "text/plain": [
              "<Figure size 640x480 with 1 Axes>"
            ],
            "image/png": "[encoded data removed]"
          },
          "metadata": {}
        }
      ]
    },
    {
      "cell_type": "code",
      "source": [
        "#Declaramos las variables dependientes e independientes para la regresión lineal\n",
        "#Vars_Indep= df[['alcohol', 'speeding']]\n",
        "Vars_Indep= DFF[['host_acceptance_rate']]\n",
        "Var_Dep= DFF['number_of_reviews']"
      ],
      "metadata": {
        "id": "kTNn7VR78V_D"
      },
      "execution_count": null,
      "outputs": []
    },
    {
      "cell_type": "code",
      "source": [
        "#Se define model como la función de regresión lineal\n",
        "from sklearn.linear_model import LinearRegression\n",
        "model= LinearRegression()"
      ],
      "metadata": {
        "id": "u3TJlQr58WG3"
      },
      "execution_count": null,
      "outputs": []
    },
    {
      "cell_type": "code",
      "source": [
        "#Verificamos la función relacionada al modelo\n",
        "type(model)"
      ],
      "metadata": {
        "colab": {
          "base_uri": "https://localhost:8080/"
        },
        "id": "VLMVflKP8WJm",
        "outputId": "e93fd74c-31aa-4b7d-ecb5-d3e263d9801d"
      },
      "execution_count": null,
      "outputs": [
        {
          "output_type": "execute_result",
          "data": {
            "text/plain": [
              "sklearn.linear_model._base.LinearRegression"
            ]
          },
          "metadata": {},
          "execution_count": 84
        }
      ]
    },
    {
      "cell_type": "code",
      "source": [
        "#Ajustamos el modelo con las variables antes declaradas\n",
        "model.fit(X=Vars_Indep, y=Var_Dep)"
      ],
      "metadata": {
        "colab": {
          "base_uri": "https://localhost:8080/",
          "height": 74
        },
        "id": "dcgSFD6d8WMb",
        "outputId": "cd6fe4db-66f5-494c-ab30-a5d4869c30e3"
      },
      "execution_count": null,
      "outputs": [
        {
          "output_type": "execute_result",
          "data": {
            "text/plain": [
              "LinearRegression()"
            ],
            "text/html": [
              "<style>#sk-container-id-10 {color: black;background-color: white;}#sk-container-id-10 pre{padding: 0;}#sk-container-id-10 div.sk-toggleable {background-color: white;}#sk-container-id-10 label.sk-toggleable__label {cursor: pointer;display: block;width: 100%;margin-bottom: 0;padding: 0.3em;box-sizing: border-box;text-align: center;}#sk-container-id-10 label.sk-toggleable__label-arrow:before {content: \"▸\";float: left;margin-right: 0.25em;color: #696969;}#sk-container-id-10 label.sk-toggleable__label-arrow:hover:before {color: black;}#sk-container-id-10 div.sk-estimator:hover label.sk-toggleable__label-arrow:before {color: black;}#sk-container-id-10 div.sk-toggleable__content {max-height: 0;max-width: 0;overflow: hidden;text-align: left;background-color: #f0f8ff;}#sk-container-id-10 div.sk-toggleable__content pre {margin: 0.2em;color: black;border-radius: 0.25em;background-color: #f0f8ff;}#sk-container-id-10 input.sk-toggleable__control:checked~div.sk-toggleable__content {max-height: 200px;max-width: 100%;overflow: auto;}#sk-container-id-10 input.sk-toggleable__control:checked~label.sk-toggleable__label-arrow:before {content: \"▾\";}#sk-container-id-10 div.sk-estimator input.sk-toggleable__control:checked~label.sk-toggleable__label {background-color: #d4ebff;}#sk-container-id-10 div.sk-label input.sk-toggleable__control:checked~label.sk-toggleable__label {background-color: #d4ebff;}#sk-container-id-10 input.sk-hidden--visually {border: 0;clip: rect(1px 1px 1px 1px);clip: rect(1px, 1px, 1px, 1px);height: 1px;margin: -1px;overflow: hidden;padding: 0;position: absolute;width: 1px;}#sk-container-id-10 div.sk-estimator {font-family: monospace;background-color: #f0f8ff;border: 1px dotted black;border-radius: 0.25em;box-sizing: border-box;margin-bottom: 0.5em;}#sk-container-id-10 div.sk-estimator:hover {background-color: #d4ebff;}#sk-container-id-10 div.sk-parallel-item::after {content: \"\";width: 100%;border-bottom: 1px solid gray;flex-grow: 1;}#sk-container-id-10 div.sk-label:hover label.sk-toggleable__label {background-color: #d4ebff;}#sk-container-id-10 div.sk-serial::before {content: \"\";position: absolute;border-left: 1px solid gray;box-sizing: border-box;top: 0;bottom: 0;left: 50%;z-index: 0;}#sk-container-id-10 div.sk-serial {display: flex;flex-direction: column;align-items: center;background-color: white;padding-right: 0.2em;padding-left: 0.2em;position: relative;}#sk-container-id-10 div.sk-item {position: relative;z-index: 1;}#sk-container-id-10 div.sk-parallel {display: flex;align-items: stretch;justify-content: center;background-color: white;position: relative;}#sk-container-id-10 div.sk-item::before, #sk-container-id-10 div.sk-parallel-item::before {content: \"\";position: absolute;border-left: 1px solid gray;box-sizing: border-box;top: 0;bottom: 0;left: 50%;z-index: -1;}#sk-container-id-10 div.sk-parallel-item {display: flex;flex-direction: column;z-index: 1;position: relative;background-color: white;}#sk-container-id-10 div.sk-parallel-item:first-child::after {align-self: flex-end;width: 50%;}#sk-container-id-10 div.sk-parallel-item:last-child::after {align-self: flex-start;width: 50%;}#sk-container-id-10 div.sk-parallel-item:only-child::after {width: 0;}#sk-container-id-10 div.sk-dashed-wrapped {border: 1px dashed gray;margin: 0 0.4em 0.5em 0.4em;box-sizing: border-box;padding-bottom: 0.4em;background-color: white;}#sk-container-id-10 div.sk-label label {font-family: monospace;font-weight: bold;display: inline-block;line-height: 1.2em;}#sk-container-id-10 div.sk-label-container {text-align: center;}#sk-container-id-10 div.sk-container {/* jupyter's `normalize.less` sets `[hidden] { display: none; }` but bootstrap.min.css set `[hidden] { display: none !important; }` so we also need the `!important` here to be able to override the default hidden behavior on the sphinx rendered scikit-learn.org. See: https://github.com/scikit-learn/scikit-learn/issues/21755 */display: inline-block !important;position: relative;}#sk-container-id-10 div.sk-text-repr-fallback {display: none;}</style><div id=\"sk-container-id-10\" class=\"sk-top-container\"><div class=\"sk-text-repr-fallback\"><pre>LinearRegression()</pre><b>In a Jupyter environment, please rerun this cell to show the HTML representation or trust the notebook. <br />On GitHub, the HTML representation is unable to render, please try loading this page with nbviewer.org.</b></div><div class=\"sk-container\" hidden><div class=\"sk-item\"><div class=\"sk-estimator sk-toggleable\"><input class=\"sk-toggleable__control sk-hidden--visually\" id=\"sk-estimator-id-10\" type=\"checkbox\" checked><label for=\"sk-estimator-id-10\" class=\"sk-toggleable__label sk-toggleable__label-arrow\">LinearRegression</label><div class=\"sk-toggleable__content\"><pre>LinearRegression()</pre></div></div></div></div></div>"
            ]
          },
          "metadata": {},
          "execution_count": 85
        }
      ]
    },
    {
      "cell_type": "code",
      "source": [
        "#Verificamos los coeficientes obtenidos para el modelo ajustado\n",
        "model.__dict__"
      ],
      "metadata": {
        "colab": {
          "base_uri": "https://localhost:8080/"
        },
        "id": "HS2NwstC8WPx",
        "outputId": "3f4d6ab6-5bc9-419a-cc8f-702f531ea50f"
      },
      "execution_count": null,
      "outputs": [
        {
          "output_type": "execute_result",
          "data": {
            "text/plain": [
              "{'fit_intercept': True,\n",
              " 'copy_X': True,\n",
              " 'n_jobs': None,\n",
              " 'positive': False,\n",
              " 'feature_names_in_': array(['host_acceptance_rate'], dtype=object),\n",
              " 'n_features_in_': 1,\n",
              " 'coef_': array([15.62379863]),\n",
              " 'rank_': 1,\n",
              " 'singular_': array([17.93824581]),\n",
              " 'intercept_': 7.643948049860013}"
            ]
          },
          "metadata": {},
          "execution_count": 86
        }
      ]
    },
    {
      "cell_type": "markdown",
      "source": [
        "Modelo matematico: y= 15.62379863 + 7.643948049860013"
      ],
      "metadata": {
        "id": "0EqKQLME8uda"
      }
    },
    {
      "cell_type": "code",
      "source": [
        "#Corroboramos cual es el coeficiente de Determinación de nuestro modelo\n",
        "coef_Deter=model.score(X=Vars_Indep, y=Var_Dep)\n",
        "coef_Deter"
      ],
      "metadata": {
        "colab": {
          "base_uri": "https://localhost:8080/"
        },
        "id": "AbxbxMya81xY",
        "outputId": "8631d01d-57e8-4bcc-cb44-b79aeb8777e4"
      },
      "execution_count": null,
      "outputs": [
        {
          "output_type": "execute_result",
          "data": {
            "text/plain": [
              "0.045945693602773896"
            ]
          },
          "metadata": {},
          "execution_count": 87
        }
      ]
    },
    {
      "cell_type": "code",
      "source": [
        "#Corroboramos cual es el coeficiente de Correlación de nuestro modelo\n",
        "coef_Correl=np.sqrt(coef_Deter)\n",
        "coef_Correl"
      ],
      "metadata": {
        "colab": {
          "base_uri": "https://localhost:8080/"
        },
        "id": "Pi3KT2EqGIk1",
        "outputId": "e1feace5-6f16-4594-e067-dd00a78fd4ff"
      },
      "execution_count": null,
      "outputs": [
        {
          "output_type": "execute_result",
          "data": {
            "text/plain": [
              "0.21434946606598743"
            ]
          },
          "metadata": {},
          "execution_count": 88
        }
      ]
    },
    {
      "cell_type": "code",
      "source": [
        "#Imprimimos el scatter plot entre la variable dependiente (total) e independiente (alchool) \n",
        "#para observar el comportamiento en su dispersión \n",
        "from turtle import color\n",
        "sns.scatterplot(x='reviews_per_month', y='review_scores_communication', color=\"blue\", data=DFF)\n",
        "#sns.scatterplot(X='speeding', y='total', color=\"red\", data=df)"
      ],
      "metadata": {
        "colab": {
          "base_uri": "https://localhost:8080/",
          "height": 467
        },
        "id": "5XMyV8yG82CQ",
        "outputId": "207d56f1-ce34-4cbe-8576-4be822451ae9"
      },
      "execution_count": null,
      "outputs": [
        {
          "output_type": "execute_result",
          "data": {
            "text/plain": [
              "<Axes: xlabel='reviews_per_month', ylabel='review_scores_communication'>"
            ]
          },
          "metadata": {},
          "execution_count": 89
        },
        {
          "output_type": "display_data",
          "data": {
            "text/plain": [
              "<Figure size 640x480 with 1 Axes>"
            ],
            "image/png": "[encoded data removed]"
          },
          "metadata": {}
        }
      ]
    },
    {
      "cell_type": "code",
      "source": [
        "#Declaramos las variables dependientes e independientes para la regresión lineal\n",
        "#Vars_Indep= df[['alcohol', 'speeding']]\n",
        "Vars_Indep= DFF[['reviews_per_month']]\n",
        "Var_Dep= DFF['review_scores_communication']"
      ],
      "metadata": {
        "id": "xF8RF46H82Ek"
      },
      "execution_count": null,
      "outputs": []
    },
    {
      "cell_type": "code",
      "source": [
        "#Se define model como la función de regresión lineal\n",
        "from sklearn.linear_model import LinearRegression\n",
        "model= LinearRegression()"
      ],
      "metadata": {
        "id": "6yt-wL8f82IH"
      },
      "execution_count": null,
      "outputs": []
    },
    {
      "cell_type": "code",
      "source": [
        "#Verificamos la función relacionada al modelo\n",
        "type(model)"
      ],
      "metadata": {
        "colab": {
          "base_uri": "https://localhost:8080/"
        },
        "id": "Jeg_c9yE9UEP",
        "outputId": "aff6f36a-3d99-4a22-b36f-61cd9f483c24"
      },
      "execution_count": null,
      "outputs": [
        {
          "output_type": "execute_result",
          "data": {
            "text/plain": [
              "sklearn.linear_model._base.LinearRegression"
            ]
          },
          "metadata": {},
          "execution_count": 92
        }
      ]
    },
    {
      "cell_type": "code",
      "source": [
        "#Ajustamos el modelo con las variables antes declaradas\n",
        "model.fit(X=Vars_Indep, y=Var_Dep)"
      ],
      "metadata": {
        "id": "bVP0jEe79Urj",
        "colab": {
          "base_uri": "https://localhost:8080/",
          "height": 74
        },
        "outputId": "013dabc4-ddc1-4d9d-b32f-ff15014f2a81"
      },
      "execution_count": null,
      "outputs": [
        {
          "output_type": "execute_result",
          "data": {
            "text/plain": [
              "LinearRegression()"
            ],
            "text/html": [
              "<style>#sk-container-id-11 {color: black;background-color: white;}#sk-container-id-11 pre{padding: 0;}#sk-container-id-11 div.sk-toggleable {background-color: white;}#sk-container-id-11 label.sk-toggleable__label {cursor: pointer;display: block;width: 100%;margin-bottom: 0;padding: 0.3em;box-sizing: border-box;text-align: center;}#sk-container-id-11 label.sk-toggleable__label-arrow:before {content: \"▸\";float: left;margin-right: 0.25em;color: #696969;}#sk-container-id-11 label.sk-toggleable__label-arrow:hover:before {color: black;}#sk-container-id-11 div.sk-estimator:hover label.sk-toggleable__label-arrow:before {color: black;}#sk-container-id-11 div.sk-toggleable__content {max-height: 0;max-width: 0;overflow: hidden;text-align: left;background-color: #f0f8ff;}#sk-container-id-11 div.sk-toggleable__content pre {margin: 0.2em;color: black;border-radius: 0.25em;background-color: #f0f8ff;}#sk-container-id-11 input.sk-toggleable__control:checked~div.sk-toggleable__content {max-height: 200px;max-width: 100%;overflow: auto;}#sk-container-id-11 input.sk-toggleable__control:checked~label.sk-toggleable__label-arrow:before {content: \"▾\";}#sk-container-id-11 div.sk-estimator input.sk-toggleable__control:checked~label.sk-toggleable__label {background-color: #d4ebff;}#sk-container-id-11 div.sk-label input.sk-toggleable__control:checked~label.sk-toggleable__label {background-color: #d4ebff;}#sk-container-id-11 input.sk-hidden--visually {border: 0;clip: rect(1px 1px 1px 1px);clip: rect(1px, 1px, 1px, 1px);height: 1px;margin: -1px;overflow: hidden;padding: 0;position: absolute;width: 1px;}#sk-container-id-11 div.sk-estimator {font-family: monospace;background-color: #f0f8ff;border: 1px dotted black;border-radius: 0.25em;box-sizing: border-box;margin-bottom: 0.5em;}#sk-container-id-11 div.sk-estimator:hover {background-color: #d4ebff;}#sk-container-id-11 div.sk-parallel-item::after {content: \"\";width: 100%;border-bottom: 1px solid gray;flex-grow: 1;}#sk-container-id-11 div.sk-label:hover label.sk-toggleable__label {background-color: #d4ebff;}#sk-container-id-11 div.sk-serial::before {content: \"\";position: absolute;border-left: 1px solid gray;box-sizing: border-box;top: 0;bottom: 0;left: 50%;z-index: 0;}#sk-container-id-11 div.sk-serial {display: flex;flex-direction: column;align-items: center;background-color: white;padding-right: 0.2em;padding-left: 0.2em;position: relative;}#sk-container-id-11 div.sk-item {position: relative;z-index: 1;}#sk-container-id-11 div.sk-parallel {display: flex;align-items: stretch;justify-content: center;background-color: white;position: relative;}#sk-container-id-11 div.sk-item::before, #sk-container-id-11 div.sk-parallel-item::before {content: \"\";position: absolute;border-left: 1px solid gray;box-sizing: border-box;top: 0;bottom: 0;left: 50%;z-index: -1;}#sk-container-id-11 div.sk-parallel-item {display: flex;flex-direction: column;z-index: 1;position: relative;background-color: white;}#sk-container-id-11 div.sk-parallel-item:first-child::after {align-self: flex-end;width: 50%;}#sk-container-id-11 div.sk-parallel-item:last-child::after {align-self: flex-start;width: 50%;}#sk-container-id-11 div.sk-parallel-item:only-child::after {width: 0;}#sk-container-id-11 div.sk-dashed-wrapped {border: 1px dashed gray;margin: 0 0.4em 0.5em 0.4em;box-sizing: border-box;padding-bottom: 0.4em;background-color: white;}#sk-container-id-11 div.sk-label label {font-family: monospace;font-weight: bold;display: inline-block;line-height: 1.2em;}#sk-container-id-11 div.sk-label-container {text-align: center;}#sk-container-id-11 div.sk-container {/* jupyter's `normalize.less` sets `[hidden] { display: none; }` but bootstrap.min.css set `[hidden] { display: none !important; }` so we also need the `!important` here to be able to override the default hidden behavior on the sphinx rendered scikit-learn.org. See: https://github.com/scikit-learn/scikit-learn/issues/21755 */display: inline-block !important;position: relative;}#sk-container-id-11 div.sk-text-repr-fallback {display: none;}</style><div id=\"sk-container-id-11\" class=\"sk-top-container\"><div class=\"sk-text-repr-fallback\"><pre>LinearRegression()</pre><b>In a Jupyter environment, please rerun this cell to show the HTML representation or trust the notebook. <br />On GitHub, the HTML representation is unable to render, please try loading this page with nbviewer.org.</b></div><div class=\"sk-container\" hidden><div class=\"sk-item\"><div class=\"sk-estimator sk-toggleable\"><input class=\"sk-toggleable__control sk-hidden--visually\" id=\"sk-estimator-id-11\" type=\"checkbox\" checked><label for=\"sk-estimator-id-11\" class=\"sk-toggleable__label sk-toggleable__label-arrow\">LinearRegression</label><div class=\"sk-toggleable__content\"><pre>LinearRegression()</pre></div></div></div></div></div>"
            ]
          },
          "metadata": {},
          "execution_count": 93
        }
      ]
    },
    {
      "cell_type": "code",
      "source": [
        "#Verificamos los coeficientes obtenidos para el modelo ajustado\n",
        "model.__dict__"
      ],
      "metadata": {
        "colab": {
          "base_uri": "https://localhost:8080/"
        },
        "id": "-cNbnyKB9UHt",
        "outputId": "195e3186-3d82-4783-9fab-9c51c0d11133"
      },
      "execution_count": null,
      "outputs": [
        {
          "output_type": "execute_result",
          "data": {
            "text/plain": [
              "{'fit_intercept': True,\n",
              " 'copy_X': True,\n",
              " 'n_jobs': None,\n",
              " 'positive': False,\n",
              " 'feature_names_in_': array(['reviews_per_month'], dtype=object),\n",
              " 'n_features_in_': 1,\n",
              " 'coef_': array([-0.01912069]),\n",
              " 'rank_': 1,\n",
              " 'singular_': array([32.71977177]),\n",
              " 'intercept_': 4.949218865812791}"
            ]
          },
          "metadata": {},
          "execution_count": 94
        }
      ]
    },
    {
      "cell_type": "markdown",
      "source": [
        "Modelo matematico: y= --0.01912069 + 4.949218865812791"
      ],
      "metadata": {
        "id": "CgsIr_qd9eh6"
      }
    },
    {
      "cell_type": "code",
      "source": [
        "#Corroboramos cual es el coeficiente de Determinación de nuestro modelo\n",
        "coef_Deter=model.score(X=Vars_Indep, y=Var_Dep)\n",
        "coef_Deter"
      ],
      "metadata": {
        "colab": {
          "base_uri": "https://localhost:8080/"
        },
        "id": "DDYWHkim9l0k",
        "outputId": "666c2200-64f0-4819-ffe6-78c55036e412"
      },
      "execution_count": null,
      "outputs": [
        {
          "output_type": "execute_result",
          "data": {
            "text/plain": [
              "0.050184787318095614"
            ]
          },
          "metadata": {},
          "execution_count": 95
        }
      ]
    },
    {
      "cell_type": "code",
      "source": [
        "#Corroboramos cual es el coeficiente de Correlación de nuestro modelo\n",
        "coef_Correl=np.sqrt(coef_Deter)\n",
        "coef_Correl"
      ],
      "metadata": {
        "colab": {
          "base_uri": "https://localhost:8080/"
        },
        "id": "C9j0Glg_GJ-Q",
        "outputId": "ea1979f0-51a9-4cd5-f0b5-75c0e8326912"
      },
      "execution_count": null,
      "outputs": [
        {
          "output_type": "execute_result",
          "data": {
            "text/plain": [
              "0.22401961369062223"
            ]
          },
          "metadata": {},
          "execution_count": 96
        }
      ]
    },
    {
      "cell_type": "code",
      "source": [
        "#Imprimimos el scatter plot entre la variable dependiente (total) e independiente (alchool) \n",
        "#para observar el comportamiento en su dispersión \n",
        "from turtle import color\n",
        "sns.scatterplot(x='host_acceptance_rate', y='price', color=\"blue\", data=DFF)\n",
        "#sns.scatterplot(X='speeding', y='total', color=\"red\", data=df)"
      ],
      "metadata": {
        "colab": {
          "base_uri": "https://localhost:8080/",
          "height": 467
        },
        "id": "3kdLvQUjDUsd",
        "outputId": "bd7b1312-0518-44d9-ebf8-00f0f31ecb07"
      },
      "execution_count": null,
      "outputs": [
        {
          "output_type": "execute_result",
          "data": {
            "text/plain": [
              "<Axes: xlabel='host_acceptance_rate', ylabel='price'>"
            ]
          },
          "metadata": {},
          "execution_count": 97
        },
        {
          "output_type": "display_data",
          "data": {
            "text/plain": [
              "<Figure size 640x480 with 1 Axes>"
            ],
            "image/png": "[encoded data removed]"
          },
          "metadata": {}
        }
      ]
    },
    {
      "cell_type": "code",
      "source": [
        "#Declaramos las variables dependientes e independientes para la regresión lineal\n",
        "#Vars_Indep= df[['alcohol', 'speeding']]\n",
        "Vars_Indep= DFF[['host_acceptance_rate']]\n",
        "Var_Dep= DFF['price']"
      ],
      "metadata": {
        "id": "5Ba1nYS8DiDq"
      },
      "execution_count": null,
      "outputs": []
    },
    {
      "cell_type": "code",
      "source": [
        "#Se define model como la función de regresión lineal\n",
        "from sklearn.linear_model import LinearRegression\n",
        "model= LinearRegression()"
      ],
      "metadata": {
        "id": "6hlJijQbDiOa"
      },
      "execution_count": null,
      "outputs": []
    },
    {
      "cell_type": "code",
      "source": [
        "#Verificamos la función relacionada al modelo\n",
        "type(model)"
      ],
      "metadata": {
        "colab": {
          "base_uri": "https://localhost:8080/"
        },
        "id": "VMCyL80dDiSX",
        "outputId": "8a94b3b6-2de3-4186-ef06-4c5407cea1d8"
      },
      "execution_count": null,
      "outputs": [
        {
          "output_type": "execute_result",
          "data": {
            "text/plain": [
              "sklearn.linear_model._base.LinearRegression"
            ]
          },
          "metadata": {},
          "execution_count": 100
        }
      ]
    },
    {
      "cell_type": "code",
      "source": [
        "#Ajustamos el modelo con las variables antes declaradas\n",
        "model.fit(X=Vars_Indep, y=Var_Dep)"
      ],
      "metadata": {
        "colab": {
          "base_uri": "https://localhost:8080/",
          "height": 74
        },
        "id": "g4e91oqADiVv",
        "outputId": "479365c8-0ee9-4112-9c1d-ecf766b4733b"
      },
      "execution_count": null,
      "outputs": [
        {
          "output_type": "execute_result",
          "data": {
            "text/plain": [
              "LinearRegression()"
            ],
            "text/html": [
              "<style>#sk-container-id-12 {color: black;background-color: white;}#sk-container-id-12 pre{padding: 0;}#sk-container-id-12 div.sk-toggleable {background-color: white;}#sk-container-id-12 label.sk-toggleable__label {cursor: pointer;display: block;width: 100%;margin-bottom: 0;padding: 0.3em;box-sizing: border-box;text-align: center;}#sk-container-id-12 label.sk-toggleable__label-arrow:before {content: \"▸\";float: left;margin-right: 0.25em;color: #696969;}#sk-container-id-12 label.sk-toggleable__label-arrow:hover:before {color: black;}#sk-container-id-12 div.sk-estimator:hover label.sk-toggleable__label-arrow:before {color: black;}#sk-container-id-12 div.sk-toggleable__content {max-height: 0;max-width: 0;overflow: hidden;text-align: left;background-color: #f0f8ff;}#sk-container-id-12 div.sk-toggleable__content pre {margin: 0.2em;color: black;border-radius: 0.25em;background-color: #f0f8ff;}#sk-container-id-12 input.sk-toggleable__control:checked~div.sk-toggleable__content {max-height: 200px;max-width: 100%;overflow: auto;}#sk-container-id-12 input.sk-toggleable__control:checked~label.sk-toggleable__label-arrow:before {content: \"▾\";}#sk-container-id-12 div.sk-estimator input.sk-toggleable__control:checked~label.sk-toggleable__label {background-color: #d4ebff;}#sk-container-id-12 div.sk-label input.sk-toggleable__control:checked~label.sk-toggleable__label {background-color: #d4ebff;}#sk-container-id-12 input.sk-hidden--visually {border: 0;clip: rect(1px 1px 1px 1px);clip: rect(1px, 1px, 1px, 1px);height: 1px;margin: -1px;overflow: hidden;padding: 0;position: absolute;width: 1px;}#sk-container-id-12 div.sk-estimator {font-family: monospace;background-color: #f0f8ff;border: 1px dotted black;border-radius: 0.25em;box-sizing: border-box;margin-bottom: 0.5em;}#sk-container-id-12 div.sk-estimator:hover {background-color: #d4ebff;}#sk-container-id-12 div.sk-parallel-item::after {content: \"\";width: 100%;border-bottom: 1px solid gray;flex-grow: 1;}#sk-container-id-12 div.sk-label:hover label.sk-toggleable__label {background-color: #d4ebff;}#sk-container-id-12 div.sk-serial::before {content: \"\";position: absolute;border-left: 1px solid gray;box-sizing: border-box;top: 0;bottom: 0;left: 50%;z-index: 0;}#sk-container-id-12 div.sk-serial {display: flex;flex-direction: column;align-items: center;background-color: white;padding-right: 0.2em;padding-left: 0.2em;position: relative;}#sk-container-id-12 div.sk-item {position: relative;z-index: 1;}#sk-container-id-12 div.sk-parallel {display: flex;align-items: stretch;justify-content: center;background-color: white;position: relative;}#sk-container-id-12 div.sk-item::before, #sk-container-id-12 div.sk-parallel-item::before {content: \"\";position: absolute;border-left: 1px solid gray;box-sizing: border-box;top: 0;bottom: 0;left: 50%;z-index: -1;}#sk-container-id-12 div.sk-parallel-item {display: flex;flex-direction: column;z-index: 1;position: relative;background-color: white;}#sk-container-id-12 div.sk-parallel-item:first-child::after {align-self: flex-end;width: 50%;}#sk-container-id-12 div.sk-parallel-item:last-child::after {align-self: flex-start;width: 50%;}#sk-container-id-12 div.sk-parallel-item:only-child::after {width: 0;}#sk-container-id-12 div.sk-dashed-wrapped {border: 1px dashed gray;margin: 0 0.4em 0.5em 0.4em;box-sizing: border-box;padding-bottom: 0.4em;background-color: white;}#sk-container-id-12 div.sk-label label {font-family: monospace;font-weight: bold;display: inline-block;line-height: 1.2em;}#sk-container-id-12 div.sk-label-container {text-align: center;}#sk-container-id-12 div.sk-container {/* jupyter's `normalize.less` sets `[hidden] { display: none; }` but bootstrap.min.css set `[hidden] { display: none !important; }` so we also need the `!important` here to be able to override the default hidden behavior on the sphinx rendered scikit-learn.org. See: https://github.com/scikit-learn/scikit-learn/issues/21755 */display: inline-block !important;position: relative;}#sk-container-id-12 div.sk-text-repr-fallback {display: none;}</style><div id=\"sk-container-id-12\" class=\"sk-top-container\"><div class=\"sk-text-repr-fallback\"><pre>LinearRegression()</pre><b>In a Jupyter environment, please rerun this cell to show the HTML representation or trust the notebook. <br />On GitHub, the HTML representation is unable to render, please try loading this page with nbviewer.org.</b></div><div class=\"sk-container\" hidden><div class=\"sk-item\"><div class=\"sk-estimator sk-toggleable\"><input class=\"sk-toggleable__control sk-hidden--visually\" id=\"sk-estimator-id-12\" type=\"checkbox\" checked><label for=\"sk-estimator-id-12\" class=\"sk-toggleable__label sk-toggleable__label-arrow\">LinearRegression</label><div class=\"sk-toggleable__content\"><pre>LinearRegression()</pre></div></div></div></div></div>"
            ]
          },
          "metadata": {},
          "execution_count": 101
        }
      ]
    },
    {
      "cell_type": "code",
      "source": [
        "#Verificamos los coeficientes obtenidos para el modelo ajustado\n",
        "model.__dict__"
      ],
      "metadata": {
        "colab": {
          "base_uri": "https://localhost:8080/"
        },
        "id": "Vm39XdgVDzME",
        "outputId": "d51fb2a4-a9b6-41d5-e186-c09637003ae0"
      },
      "execution_count": null,
      "outputs": [
        {
          "output_type": "execute_result",
          "data": {
            "text/plain": [
              "{'fit_intercept': True,\n",
              " 'copy_X': True,\n",
              " 'n_jobs': None,\n",
              " 'positive': False,\n",
              " 'feature_names_in_': array(['host_acceptance_rate'], dtype=object),\n",
              " 'n_features_in_': 1,\n",
              " 'coef_': array([-116.11846857]),\n",
              " 'rank_': 1,\n",
              " 'singular_': array([17.93824581]),\n",
              " 'intercept_': 530.6575468344669}"
            ]
          },
          "metadata": {},
          "execution_count": 102
        }
      ]
    },
    {
      "cell_type": "markdown",
      "source": [
        "Modelo matematico: y= -116.11846857 + 530.6575468344669"
      ],
      "metadata": {
        "id": "4-ee9Z_hD7Cg"
      }
    },
    {
      "cell_type": "code",
      "source": [
        "#Corroboramos cual es el coeficiente de Determinación de nuestro modelo\n",
        "coef_Deter=model.score(X=Vars_Indep, y=Var_Dep)\n",
        "coef_Deter"
      ],
      "metadata": {
        "colab": {
          "base_uri": "https://localhost:8080/"
        },
        "id": "xFt_uRf1D1_B",
        "outputId": "f46276b4-dda2-4547-ee64-7abf23b5b786"
      },
      "execution_count": null,
      "outputs": [
        {
          "output_type": "execute_result",
          "data": {
            "text/plain": [
              "0.0004414520467006522"
            ]
          },
          "metadata": {},
          "execution_count": 103
        }
      ]
    },
    {
      "cell_type": "code",
      "source": [
        "#Corroboramos cual es el coeficiente de Correlación de nuestro modelo\n",
        "coef_Correl=np.sqrt(coef_Deter)\n",
        "coef_Correl"
      ],
      "metadata": {
        "colab": {
          "base_uri": "https://localhost:8080/"
        },
        "id": "dw2eca8-GLwu",
        "outputId": "cb4fbf46-a466-47e9-e7f3-adfb83139c28"
      },
      "execution_count": null,
      "outputs": [
        {
          "output_type": "execute_result",
          "data": {
            "text/plain": [
              "0.021010760259939483"
            ]
          },
          "metadata": {},
          "execution_count": 104
        }
      ]
    },
    {
      "cell_type": "code",
      "source": [
        "#Imprimimos el scatter plot entre la variable dependiente (total) e independiente (alchool) \n",
        "#para observar el comportamiento en su dispersión \n",
        "from turtle import color\n",
        "sns.scatterplot(x='availability_365', y='number_of_reviews', color=\"blue\", data=DFF)\n",
        "#sns.scatterplot(X='speeding', y='total', color=\"red\", data=df)"
      ],
      "metadata": {
        "colab": {
          "base_uri": "https://localhost:8080/",
          "height": 467
        },
        "id": "w6YOdNXCECzd",
        "outputId": "b8f43fa2-57a3-4e94-86b3-9433659ed80d"
      },
      "execution_count": null,
      "outputs": [
        {
          "output_type": "execute_result",
          "data": {
            "text/plain": [
              "<Axes: xlabel='availability_365', ylabel='number_of_reviews'>"
            ]
          },
          "metadata": {},
          "execution_count": 105
        },
        {
          "output_type": "display_data",
          "data": {
            "text/plain": [
              "<Figure size 640x480 with 1 Axes>"
            ],
            "image/png": "[encoded data removed]"
          },
          "metadata": {}
        }
      ]
    },
    {
      "cell_type": "code",
      "source": [
        "#Declaramos las variables dependientes e independientes para la regresión lineal\n",
        "#Vars_Indep= df[['alcohol', 'speeding']]\n",
        "Vars_Indep= DFF[['availability_365']]\n",
        "Var_Dep= DFF['number_of_reviews']"
      ],
      "metadata": {
        "id": "F-rQsecdEOYu"
      },
      "execution_count": null,
      "outputs": []
    },
    {
      "cell_type": "code",
      "source": [
        "#Se define model como la función de regresión lineal\n",
        "from sklearn.linear_model import LinearRegression\n",
        "model= LinearRegression()"
      ],
      "metadata": {
        "id": "qhVGTXplEObR"
      },
      "execution_count": null,
      "outputs": []
    },
    {
      "cell_type": "code",
      "source": [
        "#Verificamos la función relacionada al modelo\n",
        "type(model)"
      ],
      "metadata": {
        "colab": {
          "base_uri": "https://localhost:8080/"
        },
        "id": "bMtLD-fzEOdz",
        "outputId": "c7774317-b932-4c94-b0a7-02766681b166"
      },
      "execution_count": null,
      "outputs": [
        {
          "output_type": "execute_result",
          "data": {
            "text/plain": [
              "sklearn.linear_model._base.LinearRegression"
            ]
          },
          "metadata": {},
          "execution_count": 108
        }
      ]
    },
    {
      "cell_type": "code",
      "source": [
        "#Ajustamos el modelo con las variables antes declaradas\n",
        "model.fit(X=Vars_Indep, y=Var_Dep)"
      ],
      "metadata": {
        "colab": {
          "base_uri": "https://localhost:8080/",
          "height": 74
        },
        "id": "IexiZJ34EOgL",
        "outputId": "4e8919b6-a053-44b6-914d-b69b38600b8f"
      },
      "execution_count": null,
      "outputs": [
        {
          "output_type": "execute_result",
          "data": {
            "text/plain": [
              "LinearRegression()"
            ],
            "text/html": [
              "<style>#sk-container-id-13 {color: black;background-color: white;}#sk-container-id-13 pre{padding: 0;}#sk-container-id-13 div.sk-toggleable {background-color: white;}#sk-container-id-13 label.sk-toggleable__label {cursor: pointer;display: block;width: 100%;margin-bottom: 0;padding: 0.3em;box-sizing: border-box;text-align: center;}#sk-container-id-13 label.sk-toggleable__label-arrow:before {content: \"▸\";float: left;margin-right: 0.25em;color: #696969;}#sk-container-id-13 label.sk-toggleable__label-arrow:hover:before {color: black;}#sk-container-id-13 div.sk-estimator:hover label.sk-toggleable__label-arrow:before {color: black;}#sk-container-id-13 div.sk-toggleable__content {max-height: 0;max-width: 0;overflow: hidden;text-align: left;background-color: #f0f8ff;}#sk-container-id-13 div.sk-toggleable__content pre {margin: 0.2em;color: black;border-radius: 0.25em;background-color: #f0f8ff;}#sk-container-id-13 input.sk-toggleable__control:checked~div.sk-toggleable__content {max-height: 200px;max-width: 100%;overflow: auto;}#sk-container-id-13 input.sk-toggleable__control:checked~label.sk-toggleable__label-arrow:before {content: \"▾\";}#sk-container-id-13 div.sk-estimator input.sk-toggleable__control:checked~label.sk-toggleable__label {background-color: #d4ebff;}#sk-container-id-13 div.sk-label input.sk-toggleable__control:checked~label.sk-toggleable__label {background-color: #d4ebff;}#sk-container-id-13 input.sk-hidden--visually {border: 0;clip: rect(1px 1px 1px 1px);clip: rect(1px, 1px, 1px, 1px);height: 1px;margin: -1px;overflow: hidden;padding: 0;position: absolute;width: 1px;}#sk-container-id-13 div.sk-estimator {font-family: monospace;background-color: #f0f8ff;border: 1px dotted black;border-radius: 0.25em;box-sizing: border-box;margin-bottom: 0.5em;}#sk-container-id-13 div.sk-estimator:hover {background-color: #d4ebff;}#sk-container-id-13 div.sk-parallel-item::after {content: \"\";width: 100%;border-bottom: 1px solid gray;flex-grow: 1;}#sk-container-id-13 div.sk-label:hover label.sk-toggleable__label {background-color: #d4ebff;}#sk-container-id-13 div.sk-serial::before {content: \"\";position: absolute;border-left: 1px solid gray;box-sizing: border-box;top: 0;bottom: 0;left: 50%;z-index: 0;}#sk-container-id-13 div.sk-serial {display: flex;flex-direction: column;align-items: center;background-color: white;padding-right: 0.2em;padding-left: 0.2em;position: relative;}#sk-container-id-13 div.sk-item {position: relative;z-index: 1;}#sk-container-id-13 div.sk-parallel {display: flex;align-items: stretch;justify-content: center;background-color: white;position: relative;}#sk-container-id-13 div.sk-item::before, #sk-container-id-13 div.sk-parallel-item::before {content: \"\";position: absolute;border-left: 1px solid gray;box-sizing: border-box;top: 0;bottom: 0;left: 50%;z-index: -1;}#sk-container-id-13 div.sk-parallel-item {display: flex;flex-direction: column;z-index: 1;position: relative;background-color: white;}#sk-container-id-13 div.sk-parallel-item:first-child::after {align-self: flex-end;width: 50%;}#sk-container-id-13 div.sk-parallel-item:last-child::after {align-self: flex-start;width: 50%;}#sk-container-id-13 div.sk-parallel-item:only-child::after {width: 0;}#sk-container-id-13 div.sk-dashed-wrapped {border: 1px dashed gray;margin: 0 0.4em 0.5em 0.4em;box-sizing: border-box;padding-bottom: 0.4em;background-color: white;}#sk-container-id-13 div.sk-label label {font-family: monospace;font-weight: bold;display: inline-block;line-height: 1.2em;}#sk-container-id-13 div.sk-label-container {text-align: center;}#sk-container-id-13 div.sk-container {/* jupyter's `normalize.less` sets `[hidden] { display: none; }` but bootstrap.min.css set `[hidden] { display: none !important; }` so we also need the `!important` here to be able to override the default hidden behavior on the sphinx rendered scikit-learn.org. See: https://github.com/scikit-learn/scikit-learn/issues/21755 */display: inline-block !important;position: relative;}#sk-container-id-13 div.sk-text-repr-fallback {display: none;}</style><div id=\"sk-container-id-13\" class=\"sk-top-container\"><div class=\"sk-text-repr-fallback\"><pre>LinearRegression()</pre><b>In a Jupyter environment, please rerun this cell to show the HTML representation or trust the notebook. <br />On GitHub, the HTML representation is unable to render, please try loading this page with nbviewer.org.</b></div><div class=\"sk-container\" hidden><div class=\"sk-item\"><div class=\"sk-estimator sk-toggleable\"><input class=\"sk-toggleable__control sk-hidden--visually\" id=\"sk-estimator-id-13\" type=\"checkbox\" checked><label for=\"sk-estimator-id-13\" class=\"sk-toggleable__label sk-toggleable__label-arrow\">LinearRegression</label><div class=\"sk-toggleable__content\"><pre>LinearRegression()</pre></div></div></div></div></div>"
            ]
          },
          "metadata": {},
          "execution_count": 109
        }
      ]
    },
    {
      "cell_type": "code",
      "source": [
        "#Verificamos los coeficientes obtenidos para el modelo ajustado\n",
        "model.__dict__"
      ],
      "metadata": {
        "colab": {
          "base_uri": "https://localhost:8080/"
        },
        "id": "-RYn2uL5EOjr",
        "outputId": "02ec2d6f-2178-43a6-948a-3962cc622d6c"
      },
      "execution_count": null,
      "outputs": [
        {
          "output_type": "execute_result",
          "data": {
            "text/plain": [
              "{'fit_intercept': True,\n",
              " 'copy_X': True,\n",
              " 'n_jobs': None,\n",
              " 'positive': False,\n",
              " 'feature_names_in_': array(['availability_365'], dtype=object),\n",
              " 'n_features_in_': 1,\n",
              " 'coef_': array([-0.02155695]),\n",
              " 'rank_': 1,\n",
              " 'singular_': array([6642.08856193]),\n",
              " 'intercept_': 23.58086237645754}"
            ]
          },
          "metadata": {},
          "execution_count": 110
        }
      ]
    },
    {
      "cell_type": "markdown",
      "source": [
        "Modelo matematico: y= -0.02155695 + 23.58086237645754"
      ],
      "metadata": {
        "id": "sIxK2sgaEnhC"
      }
    },
    {
      "cell_type": "code",
      "source": [
        "#Corroboramos cual es el coeficiente de Determinación de nuestro modelo\n",
        "coef_Deter=model.score(X=Vars_Indep, y=Var_Dep)\n",
        "coef_Deter"
      ],
      "metadata": {
        "colab": {
          "base_uri": "https://localhost:8080/"
        },
        "id": "kc5RnsUiEOnM",
        "outputId": "ad07cb3c-f2af-4a63-cbba-3e409e9da789"
      },
      "execution_count": null,
      "outputs": [
        {
          "output_type": "execute_result",
          "data": {
            "text/plain": [
              "0.011992113928495307"
            ]
          },
          "metadata": {},
          "execution_count": 111
        }
      ]
    },
    {
      "cell_type": "code",
      "source": [
        "#Corroboramos cual es el coeficiente de Correlación de nuestro modelo\n",
        "coef_Correl=np.sqrt(coef_Deter)\n",
        "coef_Correl"
      ],
      "metadata": {
        "colab": {
          "base_uri": "https://localhost:8080/"
        },
        "id": "YW7fKJUoGM4R",
        "outputId": "028222de-bb8e-4fda-facc-934b6839abff"
      },
      "execution_count": null,
      "outputs": [
        {
          "output_type": "execute_result",
          "data": {
            "text/plain": [
              "0.10950851075827535"
            ]
          },
          "metadata": {},
          "execution_count": 112
        }
      ]
    }
  ]
}